{
 "cells": [
  {
   "cell_type": "code",
   "execution_count": null,
   "metadata": {},
   "outputs": [],
   "source": [
    "!pip install opencv-contrib-python-headless\n",
    "!pip install tensorflow==1.5\n",
    "!pip install keras\n",
    "!pip install https://github.com/OlafenwaMoses/ImageAI/releases/download/2.0.2/imageai-2.0.2-py3-none-any.whl"
   ]
  },
  {
   "cell_type": "code",
   "execution_count": 1,
   "metadata": {},
   "outputs": [
    {
     "name": "stdout",
     "output_type": "stream",
     "text": [
      "Populating the interactive namespace from numpy and matplotlib\n"
     ]
    }
   ],
   "source": [
    "%pylab inline"
   ]
  },
  {
   "cell_type": "code",
   "execution_count": 2,
   "metadata": {},
   "outputs": [
    {
     "name": "stderr",
     "output_type": "stream",
     "text": [
      "Using TensorFlow backend.\n"
     ]
    }
   ],
   "source": [
    "import scipy\n",
    "import pandas as pd\n",
    "\n",
    "import cv2\n",
    "import imageio\n",
    "\n",
    "import os\n",
    "import multiprocessing as mp\n",
    "\n",
    "from imageai.Detection import ObjectDetection\n",
    "from imageai.Detection import VideoObjectDetection"
   ]
  },
  {
   "cell_type": "code",
   "execution_count": null,
   "metadata": {},
   "outputs": [],
   "source": []
  },
  {
   "cell_type": "code",
   "execution_count": 3,
   "metadata": {},
   "outputs": [],
   "source": [
    "# def detect_object(img, model='resnet50_coco_best_v2.0.1.h5', minimum_prob=50):\n",
    "#     detector = ObjectDetection()\n",
    "#     detector.setModelTypeAsRetinaNet()\n",
    "#     detector.setModelPath(os.path.join('/home/idies/workspace/Storage/Cong/persistent/video', model))\n",
    "#     detector.loadModel()\n",
    "#     detections = detector.detectObjectsFromImage(input_image=img, input_type='array', minimum_percentage_probability=minimum_prob)\n",
    "#     return detections"
   ]
  },
  {
   "cell_type": "code",
   "execution_count": 4,
   "metadata": {},
   "outputs": [],
   "source": [
    "# def get_carcoords(start):\n",
    "#     results_dict = {}\n",
    "    \n",
    "#     for i in range(start, start+length):\n",
    "#         img = imread(img_df['img_path'][i])\n",
    "#         results_dict[i] = [img_df['img_path'][i], img_df['img_index'][i], detect_object(img)]\n",
    "        \n",
    "#     return results_dict"
   ]
  },
  {
   "cell_type": "code",
   "execution_count": 15,
   "metadata": {},
   "outputs": [],
   "source": [
    "def detect_object(img, save_path, model='resnet50_coco_best_v2.0.1.h5', minimum_prob=50):\n",
    "    detector = ObjectDetection()\n",
    "    detector.setModelTypeAsRetinaNet()\n",
    "    detector.setModelPath(os.path.join('/home/idies/workspace/Storage/Cong/persistent/video', model))\n",
    "    detector.loadModel()\n",
    "    detections, objects_path = detector.detectObjectsFromImage(input_image=img, input_type='array', output_image_path=save_path, minimum_percentage_probability=minimum_prob, extract_detected_objects=True)\n",
    "    return detections, objects_path"
   ]
  },
  {
   "cell_type": "code",
   "execution_count": null,
   "metadata": {},
   "outputs": [],
   "source": [
    "def get_carcoords(start):\n",
    "    results_dict = {}\n",
    "    \n",
    "    for i in range(start, start+length):\n",
    "        img = imread(img_df['img_path'][i])\n",
    "        detections, objects_path = detect_object(img, os.path.join(save_path, str(i)))\n",
    "        results_dict[i] = [img_df['img_path'][i], img_df['img_index'][i], detections, objects_path]\n",
    "        \n",
    "    return results_dict"
   ]
  },
  {
   "cell_type": "code",
   "execution_count": 17,
   "metadata": {},
   "outputs": [],
   "source": [
    "save_path = '/home/idies/workspace/Storage/Cong/persistent/video/data/extracted/test'\n",
    "data_path = '/home/idies/workspace/Storage/Cong/persistent/video/data'\n",
    "result_path = '/home/idies/workspace/Storage/Cong/persistent/video/result/test'"
   ]
  },
  {
   "cell_type": "code",
   "execution_count": null,
   "metadata": {},
   "outputs": [],
   "source": []
  },
  {
   "cell_type": "code",
   "execution_count": null,
   "metadata": {},
   "outputs": [],
   "source": [
    "img_df = pd.read_csv(os.path.join(data_path, 'train-speed-challenge-test_raw.csv'))\n",
    "length = 10\n",
    "\n",
    "pool = mp.Pool(processes=5)\n",
    "results = [pool.apply(get_carcoords, args=(start,)) for start in range(8600, 8650, length)]\n",
    "\n",
    "np.save(os.path.join(result_path, 'objects175.npy'), results)"
   ]
  },
  {
   "cell_type": "code",
   "execution_count": null,
   "metadata": {},
   "outputs": [],
   "source": [
    "# img_df = pd.read_csv(os.path.join(data_path, 'train-speed-challenge-test_raw.csv'))\n",
    "# length = 10\n",
    "\n",
    "# pool = mp.Pool(processes=5)\n",
    "# results = [pool.apply(get_carcoords, args=(start,)) for start in range(8650, 8700, length)]\n",
    "\n",
    "# np.save(os.path.join(result_path, 'objects176.npy'), results)"
   ]
  },
  {
   "cell_type": "code",
   "execution_count": null,
   "metadata": {},
   "outputs": [],
   "source": []
  },
  {
   "cell_type": "code",
   "execution_count": null,
   "metadata": {},
   "outputs": [],
   "source": []
  },
  {
   "cell_type": "code",
   "execution_count": null,
   "metadata": {},
   "outputs": [],
   "source": []
  },
  {
   "cell_type": "code",
   "execution_count": null,
   "metadata": {},
   "outputs": [],
   "source": []
  },
  {
   "cell_type": "code",
   "execution_count": null,
   "metadata": {},
   "outputs": [],
   "source": []
  },
  {
   "cell_type": "code",
   "execution_count": 24,
   "metadata": {},
   "outputs": [],
   "source": [
    "# length = 19\n",
    "# start = 41480\n",
    "# results = get_carcoords(start)\n",
    "# np.save(os.path.join(save_path, 'objectcoords820.npy'), results)"
   ]
  },
  {
   "cell_type": "code",
   "execution_count": null,
   "metadata": {},
   "outputs": [],
   "source": []
  },
  {
   "cell_type": "code",
   "execution_count": null,
   "metadata": {},
   "outputs": [],
   "source": [
    "# img_df = pd.read_csv(os.path.join(data_path, 'train101158_raw.csv'))\n",
    "# length = 10\n",
    "\n",
    "# pool = mp.Pool(processes=5)\n",
    "# results = [pool.apply(get_carcoords, args=(start,)) for start in range(40900, 40950, length)]\n",
    "\n",
    "# np.save(os.path.join(save_path, 'objectcoords39.npy'), results)"
   ]
  },
  {
   "cell_type": "code",
   "execution_count": null,
   "metadata": {},
   "outputs": [],
   "source": [
    "# img_df = pd.read_csv(os.path.join(data_path, 'train101158_raw.csv'))\n",
    "# length = 10\n",
    "\n",
    "# pool = mp.Pool(processes=5)\n",
    "# results = [pool.apply(get_carcoords, args=(start,)) for start in range(40950, 41000, length)]\n",
    "\n",
    "# np.save(os.path.join(save_path, 'objectcoords40.npy'), results)"
   ]
  },
  {
   "cell_type": "code",
   "execution_count": null,
   "metadata": {},
   "outputs": [],
   "source": []
  },
  {
   "cell_type": "code",
   "execution_count": null,
   "metadata": {},
   "outputs": [],
   "source": [
    "# img_df = pd.read_csv(os.path.join(data_path, 'train101158_raw.csv'))\n",
    "# length = 15\n",
    "\n",
    "# pool = mp.Pool(processes=5)\n",
    "# results = [pool.apply(get_carcoords, args=(start,)) for start in range(1350, 1425, length)]\n",
    "\n",
    "# np.save(os.path.join(save_path, 'objectcoords19.npy'), results)"
   ]
  },
  {
   "cell_type": "code",
   "execution_count": null,
   "metadata": {},
   "outputs": [],
   "source": [
    "# img_df = pd.read_csv(os.path.join(data_path, 'train101158_raw.csv'))\n",
    "# length = 15\n",
    "\n",
    "# pool = mp.Pool(processes=5)\n",
    "# results = [pool.apply(get_carcoords, args=(start,)) for start in range(1425, 1500, length)]\n",
    "\n",
    "# np.save(os.path.join(save_path, 'objectcoords20.npy'), results)"
   ]
  },
  {
   "cell_type": "code",
   "execution_count": null,
   "metadata": {},
   "outputs": [],
   "source": []
  },
  {
   "cell_type": "code",
   "execution_count": null,
   "metadata": {},
   "outputs": [],
   "source": []
  },
  {
   "cell_type": "code",
   "execution_count": 44,
   "metadata": {},
   "outputs": [],
   "source": [
    "# img_df = pd.read_csv(os.path.join(data_path, 'train101158_raw.csv'))\n",
    "# length = 10"
   ]
  },
  {
   "cell_type": "code",
   "execution_count": null,
   "metadata": {},
   "outputs": [],
   "source": [
    "# pool = mp.Pool(processes=5)\n",
    "# results = [pool.apply(get_carcoords, args=(start,)) for start in range(0, 50, length)]"
   ]
  },
  {
   "cell_type": "code",
   "execution_count": null,
   "metadata": {},
   "outputs": [],
   "source": [
    "# np.save(os.path.join(save_path, 'carcoords1.npy'), results)"
   ]
  },
  {
   "cell_type": "code",
   "execution_count": null,
   "metadata": {},
   "outputs": [],
   "source": []
  },
  {
   "cell_type": "code",
   "execution_count": 33,
   "metadata": {},
   "outputs": [],
   "source": [
    "# img_df = pd.read_csv(os.path.join(data_path, 'train101158_raw.csv'))\n",
    "# length = 20"
   ]
  },
  {
   "cell_type": "code",
   "execution_count": null,
   "metadata": {},
   "outputs": [],
   "source": [
    "# pool = mp.Pool(processes=25)\n",
    "# results = [pool.apply(get_carcoords, args=(start,)) for start in range(21501, 22000, length)]"
   ]
  },
  {
   "cell_type": "code",
   "execution_count": null,
   "metadata": {},
   "outputs": [],
   "source": [
    "# np.save(os.path.join(save_path, 'carcoords_4.npy'), results)"
   ]
  },
  {
   "cell_type": "code",
   "execution_count": 33,
   "metadata": {},
   "outputs": [],
   "source": [
    "# img_df = pd.read_csv(os.path.join(data_path, 'train101158_raw.csv'))\n",
    "# length = 20"
   ]
  },
  {
   "cell_type": "code",
   "execution_count": null,
   "metadata": {},
   "outputs": [],
   "source": [
    "# pool = mp.Pool(processes=25)\n",
    "# results = [pool.apply(get_carcoords, args=(start,)) for start in range(22001, 22500, length)]"
   ]
  },
  {
   "cell_type": "code",
   "execution_count": null,
   "metadata": {},
   "outputs": [],
   "source": [
    "# np.save(os.path.join(save_path, 'carcoords_5.npy'), results)"
   ]
  },
  {
   "cell_type": "code",
   "execution_count": null,
   "metadata": {},
   "outputs": [],
   "source": []
  },
  {
   "cell_type": "code",
   "execution_count": null,
   "metadata": {},
   "outputs": [],
   "source": []
  },
  {
   "cell_type": "code",
   "execution_count": null,
   "metadata": {},
   "outputs": [],
   "source": []
  },
  {
   "cell_type": "code",
   "execution_count": 6,
   "metadata": {},
   "outputs": [
    {
     "data": {
      "text/plain": [
       "(41499, 2)"
      ]
     },
     "execution_count": 6,
     "metadata": {},
     "output_type": "execute_result"
    }
   ],
   "source": [
    "# img_df = pd.read_csv(os.path.join(data_path, 'train101158_raw.csv'))\n",
    "# img_df.shape"
   ]
  },
  {
   "cell_type": "code",
   "execution_count": null,
   "metadata": {},
   "outputs": [],
   "source": []
  },
  {
   "cell_type": "code",
   "execution_count": null,
   "metadata": {},
   "outputs": [],
   "source": []
  },
  {
   "cell_type": "code",
   "execution_count": null,
   "metadata": {},
   "outputs": [],
   "source": []
  },
  {
   "cell_type": "code",
   "execution_count": null,
   "metadata": {},
   "outputs": [],
   "source": []
  },
  {
   "cell_type": "code",
   "execution_count": null,
   "metadata": {},
   "outputs": [],
   "source": []
  }
 ],
 "metadata": {
  "kernelspec": {
   "display_name": "Python 3",
   "language": "python",
   "name": "python3"
  },
  "language_info": {
   "codemirror_mode": {
    "name": "ipython",
    "version": 3
   },
   "file_extension": ".py",
   "mimetype": "text/x-python",
   "name": "python",
   "nbconvert_exporter": "python",
   "pygments_lexer": "ipython3",
   "version": "3.6.5"
  }
 },
 "nbformat": 4,
 "nbformat_minor": 2
}
