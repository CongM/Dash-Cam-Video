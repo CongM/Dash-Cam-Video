{
 "cells": [
  {
   "cell_type": "code",
   "execution_count": null,
   "metadata": {},
   "outputs": [],
   "source": [
    "!pip install opencv-contrib-python-headless\n",
    "!pip install tensorflow==1.5\n",
    "!pip install keras\n",
    "!pip install https://github.com/OlafenwaMoses/ImageAI/releases/download/2.0.2/imageai-2.0.2-py3-none-any.whl"
   ]
  },
  {
   "cell_type": "code",
   "execution_count": 14,
   "metadata": {},
   "outputs": [
    {
     "name": "stdout",
     "output_type": "stream",
     "text": [
      "Populating the interactive namespace from numpy and matplotlib\n"
     ]
    }
   ],
   "source": [
    "%pylab inline"
   ]
  },
  {
   "cell_type": "code",
   "execution_count": 15,
   "metadata": {},
   "outputs": [],
   "source": [
    "import scipy\n",
    "import pandas as pd\n",
    "\n",
    "import cv2\n",
    "import imageio\n",
    "\n",
    "import os\n",
    "import multiprocessing as mp\n",
    "\n",
    "from imageai.Detection import ObjectDetection"
   ]
  },
  {
   "cell_type": "code",
   "execution_count": null,
   "metadata": {},
   "outputs": [],
   "source": []
  },
  {
   "cell_type": "code",
   "execution_count": 16,
   "metadata": {},
   "outputs": [],
   "source": [
    "def detect_object(img, model='resnet50_coco_best_v2.0.1.h5', minimum_prob=80):\n",
    "    detector = ObjectDetection()\n",
    "    detector.setModelTypeAsRetinaNet()\n",
    "    detector.setModelPath(os.path.join('/home/idies/workspace/Storage/Cong/persistent/video', model))\n",
    "    detector.loadModel()\n",
    "    detections = detector.detectObjectsFromImage(input_image=img, input_type='array', minimum_percentage_probability=minimum_prob)\n",
    "    return detections"
   ]
  },
  {
   "cell_type": "code",
   "execution_count": 17,
   "metadata": {},
   "outputs": [],
   "source": [
    "def get_carcoords(start):\n",
    "    results_dict = {}\n",
    "    \n",
    "    for i in range(start, start+length):\n",
    "        img = imread(img_df['img_path'][i])\n",
    "        results_dict[i] = [img_df['img_path'][i], img_df['img_index'][i], detect_object(img)]\n",
    "        \n",
    "    return results_dict"
   ]
  },
  {
   "cell_type": "code",
   "execution_count": 18,
   "metadata": {},
   "outputs": [],
   "source": [
    "save_path = '/home/idies/workspace/Storage/Cong/persistent/video/data/carcoords'\n",
    "data_path = '/home/idies/workspace/Storage/Cong/persistent/video/data'\n",
    "result_path = '/home/idies/workspace/Storage/Cong/persistent/video/result'"
   ]
  },
  {
   "cell_type": "code",
   "execution_count": null,
   "metadata": {},
   "outputs": [],
   "source": []
  },
  {
   "cell_type": "code",
   "execution_count": 33,
   "metadata": {},
   "outputs": [],
   "source": [
    "img_df = pd.read_csv(os.path.join(data_path, 'train091108_raw.csv'))\n",
    "length = 20\n",
    "\n",
    "pool = mp.Pool(processes=25)\n",
    "results = [pool.apply(get_carcoords, args=(start,)) for start in range(23501, 24000, length)]\n",
    "\n",
    "np.save(os.path.join(save_path, 'carcoords_8.npy'), results)"
   ]
  },
  {
   "cell_type": "code",
   "execution_count": 33,
   "metadata": {},
   "outputs": [],
   "source": [
    "# img_df = pd.read_csv(os.path.join(data_path, 'train091108_raw.csv'))\n",
    "# length = 20\n",
    "\n",
    "# pool = mp.Pool(processes=25)\n",
    "# results = [pool.apply(get_carcoords, args=(start,)) for start in range(23001, 23500, length)]\n",
    "\n",
    "# np.save(os.path.join(save_path, 'carcoords_7.npy'), results)"
   ]
  },
  {
   "cell_type": "code",
   "execution_count": null,
   "metadata": {},
   "outputs": [],
   "source": []
  },
  {
   "cell_type": "code",
   "execution_count": null,
   "metadata": {},
   "outputs": [],
   "source": [
    "# img_df = pd.read_csv(os.path.join(data_path, 'train091108_raw.csv'))\n",
    "# length = 15\n",
    "\n",
    "# pool = mp.Pool(processes=5)\n",
    "# results = [pool.apply(get_carcoords, args=(start,)) for start in range(14526, 14600, length)]\n",
    "\n",
    "# np.save(os.path.join(save_path, 'carcoords214.npy'), results)"
   ]
  },
  {
   "cell_type": "code",
   "execution_count": null,
   "metadata": {},
   "outputs": [],
   "source": []
  },
  {
   "cell_type": "code",
   "execution_count": null,
   "metadata": {},
   "outputs": [],
   "source": []
  },
  {
   "cell_type": "code",
   "execution_count": null,
   "metadata": {},
   "outputs": [],
   "source": []
  },
  {
   "cell_type": "code",
   "execution_count": 34,
   "metadata": {},
   "outputs": [
    {
     "data": {
      "text/plain": [
       "(24519, 2)"
      ]
     },
     "execution_count": 34,
     "metadata": {},
     "output_type": "execute_result"
    }
   ],
   "source": [
    "# img_df.shape"
   ]
  },
  {
   "cell_type": "code",
   "execution_count": null,
   "metadata": {},
   "outputs": [],
   "source": []
  },
  {
   "cell_type": "code",
   "execution_count": 28,
   "metadata": {},
   "outputs": [],
   "source": [
    "# temp = np.load('./data/carcoords/carcoords1.npy')"
   ]
  },
  {
   "cell_type": "code",
   "execution_count": null,
   "metadata": {},
   "outputs": [],
   "source": []
  }
 ],
 "metadata": {
  "kernelspec": {
   "display_name": "Python 3",
   "language": "python",
   "name": "python3"
  },
  "language_info": {
   "codemirror_mode": {
    "name": "ipython",
    "version": 3
   },
   "file_extension": ".py",
   "mimetype": "text/x-python",
   "name": "python",
   "nbconvert_exporter": "python",
   "pygments_lexer": "ipython3",
   "version": "3.6.5"
  }
 },
 "nbformat": 4,
 "nbformat_minor": 2
}
